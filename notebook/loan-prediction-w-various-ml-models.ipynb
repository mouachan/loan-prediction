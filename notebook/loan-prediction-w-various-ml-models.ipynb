{
 "cells": [
  {
   "cell_type": "code",
   "execution_count": null,
   "metadata": {},
   "outputs": [],
   "source": [
    "# Hides all warnings\n",
    "import warnings\n",
    "warnings.filterwarnings(\"ignore\")"
   ]
  },
  {
   "cell_type": "markdown",
   "metadata": {
    "id": "fJE9JR7JSj8O",
    "tags": []
   },
   "source": [
    "# 1. Introduction\n",
    "\n",
    "## Data Set Problems\n",
    "\n",
    "The company seeks to automate (in real time) the loan qualifying procedure based on information given by customers while filling out an online application form. It is expected that the development of ML models that can help the company predict loan approval will accelerate the decision-making process for determining whether an applicant is eligible for a loan or not.\n",
    "\n",
    "## Objectives of Notebook\n",
    "\n",
    "**This notebook aims to:**\n",
    "*   Analyze customer data provided in data set (EDA)\n",
    "*   Build various ML models that can predict loan approval\n",
    "\n",
    "**The machine learning models used in this project are:** \n",
    "1. Logistic Regression\n",
    "2. K-Nearest Neighbour (KNN)\n",
    "3. Support Vector Machine (SVM)\n",
    "4. Naive Bayes\n",
    "5. Decision Tree\n",
    "6. Random Forest\n",
    "7. Gradient Boost\n",
    "\n",
    "## Data Set Description\n",
    "\n",
    "There are 13 variables in this data set:\n",
    "*   8 categorical variables\n",
    "*   4 continuous variables\n",
    "*   1 ID variable\n",
    "\n",
    "The structure of the data set is the following:\n",
    "<br>\n",
    "<table style=\"width:100%\">\n",
    "<thead>\n",
    "<tr>\n",
    "<th style=\"text-align:center; font-weight: bold; font-size:14px\">Variable Name</th>\n",
    "<th style=\"text-align:center; font-weight: bold; font-size:14px\">Description</th>\n",
    "<th style=\"text-align:center; font-weight: bold; font-size:14px\">Sample Data</th>\n",
    "</tr>\n",
    "</thead>\n",
    "<tbody>\n",
    "<tr>\n",
    "<td><b>Loan_ID</b></td>\n",
    "<td>Loan reference number <br> (unique ID)</td>\n",
    "<td>LP001002; LP001003; ...</td>\n",
    "</tr>\n",
    "<tr>\n",
    "<td><b>Gender</b></td>\n",
    "<td>Applicant gender <br> (Male or Female)</td>\n",
    "<td>Male; Female</td>\n",
    "</tr>\n",
    "<tr>\n",
    "<td><b>Married</b></td>\n",
    "<td>Applicant marital status <br> (Married or not married)</td>\n",
    "<td>Married; Not Married</td>\n",
    "</tr>\n",
    "<tr>\n",
    "<td><b>Dependents</b></td>\n",
    "<td>Number of family members</td>\n",
    "<td>0; 1; 2; 3+</td>\n",
    "</tr>\n",
    "<tr>\n",
    "<td><b>Education</b></td>\n",
    "<td>Applicant education/qualification <br> (graduate or not graduate)</td>\n",
    "<td>Graduate; Under Graduate</td>\n",
    "</tr>\n",
    "<tr>\n",
    "<td><b>Self_Employed</b></td>\n",
    "<td>Applicant employment status <br> (yes for self-employed, no for employed/others)</td>\n",
    "<td>Yes; No</td>\n",
    "</tr>\n",
    "<tr>\n",
    "<td><b>ApplicantIncome</b></td>\n",
    "<td>Applicant's monthly salary/income</td>\n",
    "<td>5849; 4583; ...</td>\n",
    "</tr>\n",
    "<tr>\n",
    "<td><b>CoapplicantIncome</b></td>\n",
    "<td>Additional applicant's monthly salary/income</td>\n",
    "<td>1508; 2358; ...</td>\n",
    "</tr>\n",
    "<tr>\n",
    "<td><b>LoanAmount</b></td>\n",
    "<td>Loan amount</td>\n",
    "<td>128; 66; ...</td>\n",
    "</tr>\n",
    "<tr>\n",
    "<td><b>Loan_Amount_Term</b></td>\n",
    "<td>The loan's repayment period (in days)</td>\n",
    "<td>360; 120; ...</td>\n",
    "</tr>\n",
    "<tr>\n",
    "<td><b>Credit_History</b></td>\n",
    "<td>Records of previous credit history <br> (0: bad credit history, 1: good credit history)</td>\n",
    "<td>0; 1</td>\n",
    "</tr>\n",
    "<tr>\n",
    "<td><b>Property_Area</b></td>\n",
    "<td>The location of property <br> (Rural/Semiurban/Urban)</td>\n",
    "<td>Rural; Semiurban; Urban</td>\n",
    "</tr>\n",
    "<tr>\n",
    "<td><b>Loan_Status</b></td>\n",
    "<td>Status of loan <br> (Y: accepted, N: not accepted)</td>\n",
    "<td>Y; N</td>\n",
    "</tr>\n",
    "</tbody>\n",
    "</table>"
   ]
  },
  {
   "cell_type": "markdown",
   "metadata": {
    "id": "r238zFy8f-xl"
   },
   "source": [
    "# 2. Importing Libraries"
   ]
  },
  {
   "cell_type": "code",
   "execution_count": null,
   "metadata": {
    "tags": []
   },
   "outputs": [],
   "source": [
    "!pip install missingno imblearn xgboost skl2onnx onnx onnxruntime"
   ]
  },
  {
   "cell_type": "code",
   "execution_count": null,
   "metadata": {
    "id": "0tAGJPoeKrfI",
    "tags": []
   },
   "outputs": [],
   "source": [
    "import numpy as np\n",
    "import pandas as pd\n",
    "import matplotlib.pyplot as plt\n",
    "import missingno as mso\n",
    "import seaborn as sns\n",
    "import warnings\n",
    "import os\n",
    "\n",
    "import scipy\n",
    "from scipy import stats\n",
    "from scipy.stats import pearsonr\n",
    "from scipy.stats import ttest_ind\n",
    "\n",
    "from sklearn.metrics import classification_report\n",
    "from sklearn.metrics import confusion_matrix\n",
    "from sklearn.preprocessing import MinMaxScaler\n",
    "from sklearn.model_selection import train_test_split\n",
    "from sklearn.preprocessing import OrdinalEncoder\n",
    "from sklearn.linear_model import LogisticRegression\n",
    "from sklearn.neighbors import KNeighborsClassifier\n",
    "from sklearn.svm import SVC\n",
    "from sklearn.naive_bayes import CategoricalNB\n",
    "from sklearn.naive_bayes import GaussianNB\n",
    "from sklearn.tree import DecisionTreeClassifier\n",
    "from sklearn.ensemble import RandomForestClassifier\n",
    "from sklearn.ensemble import GradientBoostingClassifier\n",
    "from xgboost import XGBClassifier\n",
    "from sklearn.model_selection import GridSearchCV, RandomizedSearchCV\n",
    "\n",
    "from imblearn.over_sampling import SMOTE\n",
    "\n",
    "import skl2onnx\n",
    "from skl2onnx import convert_sklearn\n",
    "from skl2onnx.common.data_types import FloatTensorType\n",
    "\n",
    "import onnx\n",
    "import onnxruntime as ort"
   ]
  },
  {
   "cell_type": "markdown",
   "metadata": {
    "id": "_3IOljdqgEd0"
   },
   "source": [
    "# 3. Reading Data Set"
   ]
  },
  {
   "cell_type": "code",
   "execution_count": null,
   "metadata": {
    "executionInfo": {
     "elapsed": 12,
     "status": "ok",
     "timestamp": 1636215157136,
     "user": {
      "displayName": "Mario Caesar",
      "photoUrl": "https://lh3.googleusercontent.com/a-/AOh14GheyOtCjw9bQyrYjdnb46Fp9pWuEIUHVSHLqwMBBw=s64",
      "userId": "15479329890797732984"
     },
     "user_tz": -420
    },
    "id": "-9VxuECvXJIR",
    "outputId": "e10713bf-2767-4654-d655-1aae2b4c78d3",
    "tags": []
   },
   "outputs": [],
   "source": [
    "df = pd.read_csv(\"../dataset/loan_data_set.csv\")\n",
    "df.head()"
   ]
  },
  {
   "cell_type": "code",
   "execution_count": null,
   "metadata": {
    "executionInfo": {
     "elapsed": 11,
     "status": "ok",
     "timestamp": 1636215157136,
     "user": {
      "displayName": "Mario Caesar",
      "photoUrl": "https://lh3.googleusercontent.com/a-/AOh14GheyOtCjw9bQyrYjdnb46Fp9pWuEIUHVSHLqwMBBw=s64",
      "userId": "15479329890797732984"
     },
     "user_tz": -420
    },
    "id": "QLUH-tNjh1b8",
    "outputId": "fdbfb745-c172-4349-b544-c23caeffb7b9",
    "tags": []
   },
   "outputs": [],
   "source": [
    "print(df.shape)"
   ]
  },
  {
   "cell_type": "markdown",
   "metadata": {
    "id": "icrmwUvviQAX"
   },
   "source": [
    "👉 There are **13 columns** and **614 observations** in the data set."
   ]
  },
  {
   "cell_type": "markdown",
   "metadata": {
    "id": "q-gxXHlThKhK"
   },
   "source": [
    "# 4. Data Exploration\n",
    "This section will perform data exploration of the raw data set that has been imported."
   ]
  },
  {
   "cell_type": "markdown",
   "metadata": {
    "id": "e6VEKBKohdAs"
   },
   "source": [
    "## 4.1 Categorical Variables"
   ]
  },
  {
   "cell_type": "markdown",
   "metadata": {
    "id": "R1DsvbVQi2iw"
   },
   "source": [
    "### 4.1.1 Loan ID"
   ]
  },
  {
   "cell_type": "code",
   "execution_count": null,
   "metadata": {
    "executionInfo": {
     "elapsed": 7,
     "status": "ok",
     "timestamp": 1636215157136,
     "user": {
      "displayName": "Mario Caesar",
      "photoUrl": "https://lh3.googleusercontent.com/a-/AOh14GheyOtCjw9bQyrYjdnb46Fp9pWuEIUHVSHLqwMBBw=s64",
      "userId": "15479329890797732984"
     },
     "user_tz": -420
    },
    "id": "NIqCAFjRi5Bo",
    "outputId": "7933cb5a-af01-42a6-8826-85fc89d8df39",
    "tags": []
   },
   "outputs": [],
   "source": [
    "df.Loan_ID.value_counts(dropna=False)"
   ]
  },
  {
   "cell_type": "markdown",
   "metadata": {
    "id": "12npx9e_i7xB"
   },
   "source": [
    "👉 There are 614 unique IDs in the data set."
   ]
  },
  {
   "cell_type": "markdown",
   "metadata": {
    "id": "P0PIgD0sizNr"
   },
   "source": [
    "### 4.1.2 Gender"
   ]
  },
  {
   "cell_type": "code",
   "execution_count": null,
   "metadata": {
    "executionInfo": {
     "elapsed": 6,
     "status": "ok",
     "timestamp": 1636215157137,
     "user": {
      "displayName": "Mario Caesar",
      "photoUrl": "https://lh3.googleusercontent.com/a-/AOh14GheyOtCjw9bQyrYjdnb46Fp9pWuEIUHVSHLqwMBBw=s64",
      "userId": "15479329890797732984"
     },
     "user_tz": -420
    },
    "id": "-FCfZqBthMS9",
    "outputId": "7f8353a3-7ce7-42f0-8d35-1510ed7cf8e0",
    "tags": []
   },
   "outputs": [],
   "source": [
    "df.Gender.value_counts(dropna=False)"
   ]
  },
  {
   "cell_type": "code",
   "execution_count": null,
   "metadata": {
    "executionInfo": {
     "elapsed": 512,
     "status": "ok",
     "timestamp": 1636215157644,
     "user": {
      "displayName": "Mario Caesar",
      "photoUrl": "https://lh3.googleusercontent.com/a-/AOh14GheyOtCjw9bQyrYjdnb46Fp9pWuEIUHVSHLqwMBBw=s64",
      "userId": "15479329890797732984"
     },
     "user_tz": -420
    },
    "id": "J4m9mVNniwED",
    "outputId": "d43ca689-e92c-499d-9324-e82ec41cd7b3",
    "tags": []
   },
   "outputs": [],
   "source": [
    "sns.countplot(x=\"Gender\", data=df, palette=\"coolwarm\", hue=\"Gender\", legend=False)\n",
    "plt.show()"
   ]
  },
  {
   "cell_type": "code",
   "execution_count": null,
   "metadata": {
    "executionInfo": {
     "elapsed": 7,
     "status": "ok",
     "timestamp": 1636215157645,
     "user": {
      "displayName": "Mario Caesar",
      "photoUrl": "https://lh3.googleusercontent.com/a-/AOh14GheyOtCjw9bQyrYjdnb46Fp9pWuEIUHVSHLqwMBBw=s64",
      "userId": "15479329890797732984"
     },
     "user_tz": -420
    },
    "id": "P7dngibeoNnH",
    "outputId": "2a3f125f-70a0-4271-fc2b-2c38edd6eb9c",
    "tags": []
   },
   "outputs": [],
   "source": [
    "countMale = len(df[df.Gender == 'Male'])\n",
    "countFemale = len(df[df.Gender == 'Female'])\n",
    "countNull = len(df[df.Gender.isnull()])\n",
    "\n",
    "print(\"Percentage of Male applicants: {:.2f}%\".format((countMale / (len(df.Gender))*100)))\n",
    "print(\"Percentage of Female applicants: {:.2f}%\".format((countFemale / (len(df.Gender))*100)))\n",
    "print(\"Missing values percentage: {:.2f}%\".format((countNull / (len(df.Gender))*100)))"
   ]
  },
  {
   "cell_type": "markdown",
   "metadata": {
    "id": "x-DNl5fMjDAu"
   },
   "source": [
    "👉 The number of male applicants is higher compared to female applicants. And we can observe that there are missing values in this column."
   ]
  },
  {
   "cell_type": "markdown",
   "metadata": {
    "id": "b_Mkfxy6k2kS"
   },
   "source": [
    "### 4.1.3 Married"
   ]
  },
  {
   "cell_type": "code",
   "execution_count": null,
   "metadata": {
    "executionInfo": {
     "elapsed": 6,
     "status": "ok",
     "timestamp": 1636215157645,
     "user": {
      "displayName": "Mario Caesar",
      "photoUrl": "https://lh3.googleusercontent.com/a-/AOh14GheyOtCjw9bQyrYjdnb46Fp9pWuEIUHVSHLqwMBBw=s64",
      "userId": "15479329890797732984"
     },
     "user_tz": -420
    },
    "id": "GxBR8uJpk95l",
    "outputId": "609cccfb-9dc1-4c3c-9a80-7201b5aeebb4",
    "tags": []
   },
   "outputs": [],
   "source": [
    "df.Married.value_counts(dropna=False)"
   ]
  },
  {
   "cell_type": "code",
   "execution_count": null,
   "metadata": {
    "executionInfo": {
     "elapsed": 7,
     "status": "ok",
     "timestamp": 1636215157646,
     "user": {
      "displayName": "Mario Caesar",
      "photoUrl": "https://lh3.googleusercontent.com/a-/AOh14GheyOtCjw9bQyrYjdnb46Fp9pWuEIUHVSHLqwMBBw=s64",
      "userId": "15479329890797732984"
     },
     "user_tz": -420
    },
    "id": "7PSgGPJ-lNAI",
    "outputId": "62ed5fb3-fc6f-4a08-b300-929ab5ebdcd7",
    "tags": []
   },
   "outputs": [],
   "source": [
    "sns.countplot(x=\"Married\", data=df, palette=\"Pastel1\", hue=\"Married\", legend=False)\n",
    "plt.show()"
   ]
  },
  {
   "cell_type": "code",
   "execution_count": null,
   "metadata": {
    "executionInfo": {
     "elapsed": 692,
     "status": "ok",
     "timestamp": 1636215158332,
     "user": {
      "displayName": "Mario Caesar",
      "photoUrl": "https://lh3.googleusercontent.com/a-/AOh14GheyOtCjw9bQyrYjdnb46Fp9pWuEIUHVSHLqwMBBw=s64",
      "userId": "15479329890797732984"
     },
     "user_tz": -420
    },
    "id": "Iy-ECFncpHOg",
    "outputId": "7693d123-3919-4081-a9c5-0aced95b3c09",
    "tags": []
   },
   "outputs": [],
   "source": [
    "countMarried = len(df[df.Married == 'Yes'])\n",
    "countNotMarried = len(df[df.Married == 'No'])\n",
    "countNull = len(df[df.Married.isnull()])\n",
    "\n",
    "print(\"Percentage of Married applicants: {:.2f}%\".format((countMarried / (len(df.Married))*100)))\n",
    "print(\"Percentage of Unmarried applicants: {:.2f}%\".format((countNotMarried / (len(df.Married))*100)))\n",
    "print(\"Missing values percentage: {:.2f}%\".format((countNull / (len(df.Married))*100)))"
   ]
  },
  {
   "cell_type": "markdown",
   "metadata": {
    "id": "103tu8DvlV0V"
   },
   "source": [
    "👉 The number of married applicants is higher compared to unmarried applicants. And we can observe that there are missing values in this column."
   ]
  },
  {
   "cell_type": "markdown",
   "metadata": {
    "id": "Ytz_I82Vl3Wu"
   },
   "source": [
    "### 4.1.4 Education"
   ]
  },
  {
   "cell_type": "code",
   "execution_count": null,
   "metadata": {
    "executionInfo": {
     "elapsed": 9,
     "status": "ok",
     "timestamp": 1636215158332,
     "user": {
      "displayName": "Mario Caesar",
      "photoUrl": "https://lh3.googleusercontent.com/a-/AOh14GheyOtCjw9bQyrYjdnb46Fp9pWuEIUHVSHLqwMBBw=s64",
      "userId": "15479329890797732984"
     },
     "user_tz": -420
    },
    "id": "Qqa3XmC5l3Wv",
    "outputId": "6b3abc7b-5620-4fb0-8390-017368413212",
    "tags": []
   },
   "outputs": [],
   "source": [
    "df.Education.value_counts(dropna=False)"
   ]
  },
  {
   "cell_type": "code",
   "execution_count": null,
   "metadata": {
    "executionInfo": {
     "elapsed": 9,
     "status": "ok",
     "timestamp": 1636215158333,
     "user": {
      "displayName": "Mario Caesar",
      "photoUrl": "https://lh3.googleusercontent.com/a-/AOh14GheyOtCjw9bQyrYjdnb46Fp9pWuEIUHVSHLqwMBBw=s64",
      "userId": "15479329890797732984"
     },
     "user_tz": -420
    },
    "id": "rOSIyek7l3Wv",
    "outputId": "a8ecaac3-6c54-4858-cbfe-adb246c67a83",
    "tags": []
   },
   "outputs": [],
   "source": [
    "sns.countplot(x=\"Education\", data=df, palette=\"Pastel2\", hue=\"Education\", legend=False)\n",
    "plt.show()"
   ]
  },
  {
   "cell_type": "code",
   "execution_count": null,
   "metadata": {
    "executionInfo": {
     "elapsed": 9,
     "status": "ok",
     "timestamp": 1636215158333,
     "user": {
      "displayName": "Mario Caesar",
      "photoUrl": "https://lh3.googleusercontent.com/a-/AOh14GheyOtCjw9bQyrYjdnb46Fp9pWuEIUHVSHLqwMBBw=s64",
      "userId": "15479329890797732984"
     },
     "user_tz": -420
    },
    "id": "KswArAwgphLx",
    "outputId": "b17794ee-1de2-40da-8dc0-dd2da091be86",
    "tags": []
   },
   "outputs": [],
   "source": [
    "countGraduate = len(df[df.Education == 'Graduate'])\n",
    "countNotGraduate = len(df[df.Education == 'Not Graduate'])\n",
    "countNull = len(df[df.Education.isnull()])\n",
    "\n",
    "print(\"Percentage of Graduate applicants: {:.2f}%\".format((countGraduate / (len(df.Education))*100)))\n",
    "print(\"Percentage of Not Graduate applicants: {:.2f}%\".format((countNotGraduate / (len(df.Education))*100)))\n",
    "print(\"Missing values percentage: {:.2f}%\".format((countNull / (len(df.Education))*100)))"
   ]
  },
  {
   "cell_type": "markdown",
   "metadata": {
    "id": "wa2PIxQ_l3Ww"
   },
   "source": [
    "👉 The number of applicants that have graduated is higher than the number of applicants that haven't graduated. There are no missing values in this column."
   ]
  },
  {
   "cell_type": "markdown",
   "metadata": {
    "id": "35SS19AbmYMQ"
   },
   "source": [
    "### 4.1.5 Self Employed"
   ]
  },
  {
   "cell_type": "code",
   "execution_count": null,
   "metadata": {
    "executionInfo": {
     "elapsed": 9,
     "status": "ok",
     "timestamp": 1636215158334,
     "user": {
      "displayName": "Mario Caesar",
      "photoUrl": "https://lh3.googleusercontent.com/a-/AOh14GheyOtCjw9bQyrYjdnb46Fp9pWuEIUHVSHLqwMBBw=s64",
      "userId": "15479329890797732984"
     },
     "user_tz": -420
    },
    "id": "_SkU0fcVmYMY",
    "outputId": "2eed44a8-0e10-4f3b-da41-542e4e19646a",
    "tags": []
   },
   "outputs": [],
   "source": [
    "df.Self_Employed.value_counts(dropna=False)"
   ]
  },
  {
   "cell_type": "code",
   "execution_count": null,
   "metadata": {
    "executionInfo": {
     "elapsed": 9,
     "status": "ok",
     "timestamp": 1636215158334,
     "user": {
      "displayName": "Mario Caesar",
      "photoUrl": "https://lh3.googleusercontent.com/a-/AOh14GheyOtCjw9bQyrYjdnb46Fp9pWuEIUHVSHLqwMBBw=s64",
      "userId": "15479329890797732984"
     },
     "user_tz": -420
    },
    "id": "BMr-wTlFmYMZ",
    "outputId": "4f382de4-2c7a-4c74-ef1b-cd3657762aff",
    "tags": []
   },
   "outputs": [],
   "source": [
    "sns.countplot(x=\"Self_Employed\", data=df, palette=\"Pastel1\", hue=\"Self_Employed\", legend=False) \n",
    "plt.show()"
   ]
  },
  {
   "cell_type": "code",
   "execution_count": null,
   "metadata": {
    "executionInfo": {
     "elapsed": 8,
     "status": "ok",
     "timestamp": 1636215158334,
     "user": {
      "displayName": "Mario Caesar",
      "photoUrl": "https://lh3.googleusercontent.com/a-/AOh14GheyOtCjw9bQyrYjdnb46Fp9pWuEIUHVSHLqwMBBw=s64",
      "userId": "15479329890797732984"
     },
     "user_tz": -420
    },
    "id": "EaJS6E0Xp1AT",
    "outputId": "39f3ec08-aced-44ca-abbd-3bd50b818622",
    "tags": []
   },
   "outputs": [],
   "source": [
    "countNo = len(df[df.Self_Employed == 'No'])\n",
    "countYes = len(df[df.Self_Employed == 'Yes'])\n",
    "countNull = len(df[df.Self_Employed.isnull()])\n",
    "\n",
    "print(\"Percentage of Not Self-employed applicants: {:.2f}%\".format((countNo / (len(df.Self_Employed))*100)))\n",
    "print(\"Percentage of Self-employed applicants: {:.2f}%\".format((countYes / (len(df.Self_Employed))*100)))\n",
    "print(\"Missing values percentage: {:.2f}%\".format((countNull / (len(df.Self_Employed))*100)))"
   ]
  },
  {
   "cell_type": "markdown",
   "metadata": {
    "id": "riciPtC9mYMZ"
   },
   "source": [
    "👉 The number of self-employed applicants is lower compared to not self-employed applicants. And we can observe that there are missing values in this column."
   ]
  },
  {
   "cell_type": "markdown",
   "metadata": {
    "id": "sn4zWF8-njF5"
   },
   "source": [
    "### 4.1.6 Credit History"
   ]
  },
  {
   "cell_type": "code",
   "execution_count": null,
   "metadata": {
    "executionInfo": {
     "elapsed": 9,
     "status": "ok",
     "timestamp": 1636215158335,
     "user": {
      "displayName": "Mario Caesar",
      "photoUrl": "https://lh3.googleusercontent.com/a-/AOh14GheyOtCjw9bQyrYjdnb46Fp9pWuEIUHVSHLqwMBBw=s64",
      "userId": "15479329890797732984"
     },
     "user_tz": -420
    },
    "id": "KtdDjo95njGA",
    "outputId": "1881d0af-d045-4e03-cde1-6c0aeeb93448",
    "tags": []
   },
   "outputs": [],
   "source": [
    "df.Credit_History.value_counts(dropna=False)"
   ]
  },
  {
   "cell_type": "code",
   "execution_count": null,
   "metadata": {
    "executionInfo": {
     "elapsed": 606,
     "status": "ok",
     "timestamp": 1636215158932,
     "user": {
      "displayName": "Mario Caesar",
      "photoUrl": "https://lh3.googleusercontent.com/a-/AOh14GheyOtCjw9bQyrYjdnb46Fp9pWuEIUHVSHLqwMBBw=s64",
      "userId": "15479329890797732984"
     },
     "user_tz": -420
    },
    "id": "VmNGGD6onjGB",
    "outputId": "241c0aca-0c53-4611-9047-9ad67a8ab75d",
    "tags": []
   },
   "outputs": [],
   "source": [
    "sns.countplot(x=\"Credit_History\", data=df, palette=\"Pastel1\", hue=\"Credit_History\", legend=False)\n",
    "plt.show()"
   ]
  },
  {
   "cell_type": "code",
   "execution_count": null,
   "metadata": {
    "executionInfo": {
     "elapsed": 11,
     "status": "ok",
     "timestamp": 1636215158933,
     "user": {
      "displayName": "Mario Caesar",
      "photoUrl": "https://lh3.googleusercontent.com/a-/AOh14GheyOtCjw9bQyrYjdnb46Fp9pWuEIUHVSHLqwMBBw=s64",
      "userId": "15479329890797732984"
     },
     "user_tz": -420
    },
    "id": "WdkcsU8vqK8Y",
    "outputId": "6b17cefa-27be-4815-d81c-5896cbfe1a74",
    "tags": []
   },
   "outputs": [],
   "source": [
    "count1 = len(df[df.Credit_History == 1])\n",
    "count0 = len(df[df.Credit_History == 0])\n",
    "countNull = len(df[df.Credit_History.isnull()])\n",
    "\n",
    "print(\"Percentage of Good credit history: {:.2f}%\".format((count1 / (len(df.Credit_History))*100)))\n",
    "print(\"Percentage of Bad credit history: {:.2f}%\".format((count0 / (len(df.Credit_History))*100)))\n",
    "print(\"Missing values percentage: {:.2f}%\".format((countNull / (len(df.Credit_History))*100)))"
   ]
  },
  {
   "cell_type": "markdown",
   "metadata": {
    "id": "SqS_n8I7njGB"
   },
   "source": [
    "👉 The number of applicants who have good credit history is higher compared to applicants who have bad credit history. And we can observe that there are missing values in this column."
   ]
  },
  {
   "cell_type": "markdown",
   "metadata": {
    "id": "vITK924Anjnn"
   },
   "source": [
    "### 4.1.7 Property Area"
   ]
  },
  {
   "cell_type": "code",
   "execution_count": null,
   "metadata": {
    "executionInfo": {
     "elapsed": 10,
     "status": "ok",
     "timestamp": 1636215158933,
     "user": {
      "displayName": "Mario Caesar",
      "photoUrl": "https://lh3.googleusercontent.com/a-/AOh14GheyOtCjw9bQyrYjdnb46Fp9pWuEIUHVSHLqwMBBw=s64",
      "userId": "15479329890797732984"
     },
     "user_tz": -420
    },
    "id": "i4o2LfJ2njnn",
    "outputId": "afce89f9-2ab6-439d-e2c8-43ca0e85cffc",
    "tags": []
   },
   "outputs": [],
   "source": [
    "df.Property_Area.value_counts(dropna=False)"
   ]
  },
  {
   "cell_type": "code",
   "execution_count": null,
   "metadata": {
    "executionInfo": {
     "elapsed": 9,
     "status": "ok",
     "timestamp": 1636215158933,
     "user": {
      "displayName": "Mario Caesar",
      "photoUrl": "https://lh3.googleusercontent.com/a-/AOh14GheyOtCjw9bQyrYjdnb46Fp9pWuEIUHVSHLqwMBBw=s64",
      "userId": "15479329890797732984"
     },
     "user_tz": -420
    },
    "id": "29S5dnm6njnn",
    "outputId": "89ab805a-9bd5-4952-e383-21000da492fa",
    "tags": []
   },
   "outputs": [],
   "source": [
    "sns.countplot(x=\"Property_Area\", data=df, palette=\"Accent\", hue=\"Property_Area\", legend=False)\n",
    "plt.show()"
   ]
  },
  {
   "cell_type": "code",
   "execution_count": null,
   "metadata": {
    "executionInfo": {
     "elapsed": 9,
     "status": "ok",
     "timestamp": 1636215158934,
     "user": {
      "displayName": "Mario Caesar",
      "photoUrl": "https://lh3.googleusercontent.com/a-/AOh14GheyOtCjw9bQyrYjdnb46Fp9pWuEIUHVSHLqwMBBw=s64",
      "userId": "15479329890797732984"
     },
     "user_tz": -420
    },
    "id": "XoksMSh9raU_",
    "outputId": "6344c5c7-c018-4d68-d5d2-f35de65edf29",
    "tags": []
   },
   "outputs": [],
   "source": [
    "countUrban = len(df[df.Property_Area == 'Urban'])\n",
    "countRural = len(df[df.Property_Area == 'Rural'])\n",
    "countSemiurban = len(df[df.Property_Area == 'Semiurban'])\n",
    "countNull = len(df[df.Property_Area.isnull()])\n",
    "\n",
    "print(\"Percentage of Urban: {:.2f}%\".format((countUrban / (len(df.Property_Area))*100)))\n",
    "print(\"Percentage of Rural: {:.2f}%\".format((countRural / (len(df.Property_Area))*100)))\n",
    "print(\"Percentage of Semi-urban: {:.2f}%\".format((countSemiurban / (len(df.Property_Area))*100)))\n",
    "print(\"Missing values percentage: {:.2f}%\".format((countNull / (len(df.Property_Area))*100)))"
   ]
  },
  {
   "cell_type": "markdown",
   "metadata": {
    "id": "Uh6r7sCbnjnn"
   },
   "source": [
    "👉 This column has a balanced distribution between Urban, Rural, and Semi-urban property area. There are no missing values in this column."
   ]
  },
  {
   "cell_type": "markdown",
   "metadata": {
    "id": "sq3-SZScnkCQ"
   },
   "source": [
    "### 4.1.8 Loan Status"
   ]
  },
  {
   "cell_type": "code",
   "execution_count": null,
   "metadata": {
    "executionInfo": {
     "elapsed": 9,
     "status": "ok",
     "timestamp": 1636215158934,
     "user": {
      "displayName": "Mario Caesar",
      "photoUrl": "https://lh3.googleusercontent.com/a-/AOh14GheyOtCjw9bQyrYjdnb46Fp9pWuEIUHVSHLqwMBBw=s64",
      "userId": "15479329890797732984"
     },
     "user_tz": -420
    },
    "id": "wiumstnCnkCQ",
    "outputId": "87f387d9-fce8-4b8a-9c1b-105e97e5e9ce",
    "tags": []
   },
   "outputs": [],
   "source": [
    "df.Loan_Status.value_counts(dropna=False)"
   ]
  },
  {
   "cell_type": "code",
   "execution_count": null,
   "metadata": {
    "executionInfo": {
     "elapsed": 9,
     "status": "ok",
     "timestamp": 1636215158935,
     "user": {
      "displayName": "Mario Caesar",
      "photoUrl": "https://lh3.googleusercontent.com/a-/AOh14GheyOtCjw9bQyrYjdnb46Fp9pWuEIUHVSHLqwMBBw=s64",
      "userId": "15479329890797732984"
     },
     "user_tz": -420
    },
    "id": "uu0vT0SvnkCR",
    "outputId": "3d3ed03e-b55a-4984-b1db-1a3ff22693d0",
    "tags": []
   },
   "outputs": [],
   "source": [
    "sns.countplot(x=\"Loan_Status\", data=df, palette=\"Pastel2\", hue=\"Loan_Status\", legend=False)\n",
    "plt.show()"
   ]
  },
  {
   "cell_type": "code",
   "execution_count": null,
   "metadata": {
    "executionInfo": {
     "elapsed": 9,
     "status": "ok",
     "timestamp": 1636215158935,
     "user": {
      "displayName": "Mario Caesar",
      "photoUrl": "https://lh3.googleusercontent.com/a-/AOh14GheyOtCjw9bQyrYjdnb46Fp9pWuEIUHVSHLqwMBBw=s64",
      "userId": "15479329890797732984"
     },
     "user_tz": -420
    },
    "id": "nicivzzRsqZe",
    "outputId": "3e6ffec2-03cd-428b-8c3b-463377ea4c84",
    "tags": []
   },
   "outputs": [],
   "source": [
    "countY = len(df[df.Loan_Status == 'Y'])\n",
    "countN = len(df[df.Loan_Status == 'N'])\n",
    "countNull = len(df[df.Loan_Status.isnull()])\n",
    "\n",
    "print(\"Percentage of Approved: {:.2f}%\".format((countY / (len(df.Loan_Status))*100)))\n",
    "print(\"Percentage of Rejected: {:.2f}%\".format((countN / (len(df.Loan_Status))*100)))\n",
    "print(\"Missing values percentage: {:.2f}%\".format((countNull / (len(df.Loan_Status))*100)))"
   ]
  },
  {
   "cell_type": "markdown",
   "metadata": {
    "id": "Nj8btIZpnkCR"
   },
   "source": [
    "👉 The number of approved loans is higher than the number of rejected loans. There are no missing values in this column."
   ]
  },
  {
   "cell_type": "markdown",
   "metadata": {
    "id": "uOKvRa2gO_j9"
   },
   "source": [
    "### 4.1.9 Loan Amount Term"
   ]
  },
  {
   "cell_type": "code",
   "execution_count": null,
   "metadata": {
    "executionInfo": {
     "elapsed": 8,
     "status": "ok",
     "timestamp": 1636215158935,
     "user": {
      "displayName": "Mario Caesar",
      "photoUrl": "https://lh3.googleusercontent.com/a-/AOh14GheyOtCjw9bQyrYjdnb46Fp9pWuEIUHVSHLqwMBBw=s64",
      "userId": "15479329890797732984"
     },
     "user_tz": -420
    },
    "id": "suUA8cOXO_kB",
    "outputId": "12318782-a8c4-456f-d772-4fb39a748e61",
    "tags": []
   },
   "outputs": [],
   "source": [
    "df.Loan_Amount_Term.value_counts(dropna=False)"
   ]
  },
  {
   "cell_type": "code",
   "execution_count": null,
   "metadata": {
    "executionInfo": {
     "elapsed": 744,
     "status": "ok",
     "timestamp": 1636215159671,
     "user": {
      "displayName": "Mario Caesar",
      "photoUrl": "https://lh3.googleusercontent.com/a-/AOh14GheyOtCjw9bQyrYjdnb46Fp9pWuEIUHVSHLqwMBBw=s64",
      "userId": "15479329890797732984"
     },
     "user_tz": -420
    },
    "id": "19IBVpnZO_kC",
    "outputId": "3c50a271-b3fe-4c25-c73c-e189bef48966",
    "tags": []
   },
   "outputs": [],
   "source": [
    "sns.countplot(x=\"Loan_Amount_Term\", data=df, palette=\"RdPu\", hue=\"Loan_Amount_Term\", legend=False)\n",
    "plt.show()"
   ]
  },
  {
   "cell_type": "code",
   "execution_count": null,
   "metadata": {
    "executionInfo": {
     "elapsed": 7,
     "status": "ok",
     "timestamp": 1636215159672,
     "user": {
      "displayName": "Mario Caesar",
      "photoUrl": "https://lh3.googleusercontent.com/a-/AOh14GheyOtCjw9bQyrYjdnb46Fp9pWuEIUHVSHLqwMBBw=s64",
      "userId": "15479329890797732984"
     },
     "user_tz": -420
    },
    "id": "4I7KGiUiO_kC",
    "outputId": "831b5372-2b68-40ae-8c9f-bade309f9b71",
    "tags": []
   },
   "outputs": [],
   "source": [
    "count12 = len(df[df.Loan_Amount_Term == 12.0])\n",
    "count36 = len(df[df.Loan_Amount_Term == 36.0])\n",
    "count60 = len(df[df.Loan_Amount_Term == 60.0])\n",
    "count84 = len(df[df.Loan_Amount_Term == 84.0])\n",
    "count120 = len(df[df.Loan_Amount_Term == 120.0])\n",
    "count180 = len(df[df.Loan_Amount_Term == 180.0])\n",
    "count240 = len(df[df.Loan_Amount_Term == 240.0])\n",
    "count300 = len(df[df.Loan_Amount_Term == 300.0])\n",
    "count360 = len(df[df.Loan_Amount_Term == 360.0])\n",
    "count480 = len(df[df.Loan_Amount_Term == 480.0])\n",
    "countNull = len(df[df.Loan_Amount_Term.isnull()])\n",
    "\n",
    "print(\"Percentage of 12: {:.2f}%\".format((count12 / (len(df.Loan_Amount_Term))*100)))\n",
    "print(\"Percentage of 36: {:.2f}%\".format((count36 / (len(df.Loan_Amount_Term))*100)))\n",
    "print(\"Percentage of 60: {:.2f}%\".format((count60 / (len(df.Loan_Amount_Term))*100)))\n",
    "print(\"Percentage of 84: {:.2f}%\".format((count84 / (len(df.Loan_Amount_Term))*100)))\n",
    "print(\"Percentage of 120: {:.2f}%\".format((count120 / (len(df.Loan_Amount_Term))*100)))\n",
    "print(\"Percentage of 180: {:.2f}%\".format((count180 / (len(df.Loan_Amount_Term))*100)))\n",
    "print(\"Percentage of 240: {:.2f}%\".format((count240 / (len(df.Loan_Amount_Term))*100)))\n",
    "print(\"Percentage of 300: {:.2f}%\".format((count300 / (len(df.Loan_Amount_Term))*100)))\n",
    "print(\"Percentage of 360: {:.2f}%\".format((count360 / (len(df.Loan_Amount_Term))*100)))\n",
    "print(\"Percentage of 480: {:.2f}%\".format((count480 / (len(df.Loan_Amount_Term))*100)))\n",
    "print(\"Missing values percentage: {:.2f}%\".format((countNull / (len(df.Loan_Amount_Term))*100)))"
   ]
  },
  {
   "cell_type": "markdown",
   "metadata": {
    "id": "SrCT3UlKO_kC"
   },
   "source": [
    "👉 As we can see from the results, the 360-day loan duration is the most popular compared to other durations."
   ]
  },
  {
   "cell_type": "markdown",
   "metadata": {
    "id": "uE8t92lRtCXr"
   },
   "source": [
    "## 4.2 Numerical Variables"
   ]
  },
  {
   "cell_type": "markdown",
   "metadata": {
    "id": "OilcVn02ZLGC"
   },
   "source": [
    "### 4.2.1 Describe Numerical Variables"
   ]
  },
  {
   "cell_type": "code",
   "execution_count": null,
   "metadata": {
    "executionInfo": {
     "elapsed": 7,
     "status": "ok",
     "timestamp": 1636215159673,
     "user": {
      "displayName": "Mario Caesar",
      "photoUrl": "https://lh3.googleusercontent.com/a-/AOh14GheyOtCjw9bQyrYjdnb46Fp9pWuEIUHVSHLqwMBBw=s64",
      "userId": "15479329890797732984"
     },
     "user_tz": -420
    },
    "id": "JYmOMnqitb6s",
    "outputId": "98a0a42e-77d1-4a12-a92e-58cf5a317392",
    "tags": []
   },
   "outputs": [],
   "source": [
    "df[['ApplicantIncome','CoapplicantIncome','LoanAmount']].describe()"
   ]
  },
  {
   "cell_type": "markdown",
   "metadata": {
    "id": "xVh_xjKZNFtZ"
   },
   "source": [
    "### 4.2.2 Distribution of Numerical Variable"
   ]
  },
  {
   "cell_type": "markdown",
   "metadata": {
    "id": "26oBuCCFRHdt"
   },
   "source": [
    "#### 4.2.2.1 Histogram Distribution"
   ]
  },
  {
   "cell_type": "code",
   "execution_count": null,
   "metadata": {
    "executionInfo": {
     "elapsed": 2639,
     "status": "ok",
     "timestamp": 1636215162306,
     "user": {
      "displayName": "Mario Caesar",
      "photoUrl": "https://lh3.googleusercontent.com/a-/AOh14GheyOtCjw9bQyrYjdnb46Fp9pWuEIUHVSHLqwMBBw=s64",
      "userId": "15479329890797732984"
     },
     "user_tz": -420
    },
    "id": "nNQVNECjOV_R",
    "outputId": "ba7251ca-eb6a-4b94-bd03-8fbfd8d89a67",
    "tags": []
   },
   "outputs": [],
   "source": [
    "sns.set(style=\"darkgrid\")\n",
    "\n",
    "fig, axs = plt.subplots(3, 1, figsize=(20, 15))\n",
    "sns.histplot(data=df, x=\"ApplicantIncome\", kde=True, ax=axs[0], color='green')\n",
    "sns.histplot(data=df, x=\"CoapplicantIncome\", kde=True, ax=axs[1], color='skyblue')\n",
    "sns.histplot(data=df, x=\"LoanAmount\", kde=True, ax=axs[2], color='orange');"
   ]
  },
  {
   "cell_type": "markdown",
   "metadata": {
    "id": "Wm-uWGyORLEh"
   },
   "source": [
    "#### 4.2.2.2 Violin Plot"
   ]
  },
  {
   "cell_type": "code",
   "execution_count": null,
   "metadata": {
    "executionInfo": {
     "elapsed": 1225,
     "status": "ok",
     "timestamp": 1636215163524,
     "user": {
      "displayName": "Mario Caesar",
      "photoUrl": "https://lh3.googleusercontent.com/a-/AOh14GheyOtCjw9bQyrYjdnb46Fp9pWuEIUHVSHLqwMBBw=s64",
      "userId": "15479329890797732984"
     },
     "user_tz": -420
    },
    "id": "bqcMEGfUQDTM",
    "outputId": "38c360e8-3eb2-4b27-d939-7f3aa256c951",
    "tags": []
   },
   "outputs": [],
   "source": [
    "sns.set(style=\"darkgrid\")\n",
    "\n",
    "fig, axs1 = plt.subplots(1, 3, figsize=(20, 8))\n",
    "sns.violinplot(data=df, y=\"ApplicantIncome\", ax=axs1[0], color='green')\n",
    "sns.violinplot(data=df, y=\"CoapplicantIncome\", ax=axs1[1], color='skyblue')\n",
    "sns.violinplot(data=df, y=\"LoanAmount\", ax=axs1[2], color='orange');"
   ]
  },
  {
   "cell_type": "markdown",
   "metadata": {
    "id": "26VEP1r5SyM_"
   },
   "source": [
    "👉 The distribution of `ApplicantIncome`, `CoapplicantIncome`, and `LoanAmount` are **positively skewed** and have **outliers**."
   ]
  },
  {
   "cell_type": "markdown",
   "metadata": {
    "id": "sBAeM4ZWXuOI"
   },
   "source": [
    "## 4.3 Other Exploration"
   ]
  },
  {
   "cell_type": "markdown",
   "metadata": {
    "id": "GsaiF0JAYrTA"
   },
   "source": [
    "### 4.3.1 Heatmap"
   ]
  },
  {
   "cell_type": "code",
   "execution_count": null,
   "metadata": {
    "executionInfo": {
     "elapsed": 9,
     "status": "ok",
     "timestamp": 1636215163525,
     "user": {
      "displayName": "Mario Caesar",
      "photoUrl": "https://lh3.googleusercontent.com/a-/AOh14GheyOtCjw9bQyrYjdnb46Fp9pWuEIUHVSHLqwMBBw=s64",
      "userId": "15479329890797732984"
     },
     "user_tz": -420
    },
    "id": "eCrq4rn7XxTt",
    "outputId": "89a0596e-bad6-4c32-9caa-6d9d10d838a6",
    "tags": []
   },
   "outputs": [],
   "source": [
    "# Select only numeric columns\n",
    "numeric_df = df.select_dtypes(include=[float, int])\n",
    "\n",
    "# Plot the heatmap\n",
    "plt.figure(figsize=(10, 7))\n",
    "sns.heatmap(numeric_df.corr(), annot=True, cmap='RdPu')\n",
    "plt.show()"
   ]
  },
  {
   "cell_type": "markdown",
   "metadata": {
    "id": "BcZG6vDpfchM"
   },
   "source": [
    "👉 There is a **positive correlation** between `LoanAmount` and `ApplicantIncome`."
   ]
  },
  {
   "cell_type": "markdown",
   "metadata": {
    "id": "IOm0V24oYyQb"
   },
   "source": [
    "### 4.3.2 Categorical Vs Categorical Variables"
   ]
  },
  {
   "cell_type": "code",
   "execution_count": null,
   "metadata": {
    "executionInfo": {
     "elapsed": 1066,
     "status": "ok",
     "timestamp": 1636215164586,
     "user": {
      "displayName": "Mario Caesar",
      "photoUrl": "https://lh3.googleusercontent.com/a-/AOh14GheyOtCjw9bQyrYjdnb46Fp9pWuEIUHVSHLqwMBBw=s64",
      "userId": "15479329890797732984"
     },
     "user_tz": -420
    },
    "id": "sO2zNOYmYxkt",
    "outputId": "54fc65c5-b890-488e-d471-72c986d1109d",
    "tags": []
   },
   "outputs": [],
   "source": [
    "pd.crosstab(df.Gender,df.Married).plot(kind=\"bar\", stacked=True, figsize=(5,5), color=['tab:blue','tab:orange'])\n",
    "plt.title('Gender vs Married')\n",
    "plt.xlabel('Gender')\n",
    "plt.ylabel('Frequency')\n",
    "plt.xticks(rotation=0)\n",
    "plt.show()"
   ]
  },
  {
   "cell_type": "markdown",
   "metadata": {
    "id": "H2ic-PSOfxJq"
   },
   "source": [
    "👉 More male applicants are married compared to female applicants (relatively). Also, the number of unmarried male applicants is overall higher compared to unmarried female applicants."
   ]
  },
  {
   "cell_type": "code",
   "execution_count": null,
   "metadata": {
    "executionInfo": {
     "elapsed": 10,
     "status": "ok",
     "timestamp": 1636215164586,
     "user": {
      "displayName": "Mario Caesar",
      "photoUrl": "https://lh3.googleusercontent.com/a-/AOh14GheyOtCjw9bQyrYjdnb46Fp9pWuEIUHVSHLqwMBBw=s64",
      "userId": "15479329890797732984"
     },
     "user_tz": -420
    },
    "id": "Qkge_XadbuLA",
    "outputId": "90ab5cd5-3a90-48e8-b200-465ad802c86b",
    "tags": []
   },
   "outputs": [],
   "source": [
    "pd.crosstab(df.Self_Employed,df.Credit_History).plot(kind=\"bar\", stacked=True, figsize=(5,5), color=['tab:purple','gold'])\n",
    "plt.title('Self Employed vs Credit History')\n",
    "plt.xlabel('Self Employed')\n",
    "plt.ylabel('Frequency')\n",
    "plt.legend([\"Bad Credit\", \"Good Credit\"])\n",
    "plt.xticks(rotation=0)\n",
    "plt.show()"
   ]
  },
  {
   "cell_type": "markdown",
   "metadata": {
    "id": "Ab_vh1DWgFS3"
   },
   "source": [
    "👉 More self-employed applicants have good credit compared to not self-employed applicants (relatively)."
   ]
  },
  {
   "cell_type": "code",
   "execution_count": null,
   "metadata": {
    "executionInfo": {
     "elapsed": 10,
     "status": "ok",
     "timestamp": 1636215164587,
     "user": {
      "displayName": "Mario Caesar",
      "photoUrl": "https://lh3.googleusercontent.com/a-/AOh14GheyOtCjw9bQyrYjdnb46Fp9pWuEIUHVSHLqwMBBw=s64",
      "userId": "15479329890797732984"
     },
     "user_tz": -420
    },
    "id": "p1ztJv3wcyRA",
    "outputId": "de51e6c0-fa1a-441b-aefc-b7f9d3a49ea4",
    "tags": []
   },
   "outputs": [],
   "source": [
    "pd.crosstab(df.Property_Area,df.Loan_Status).plot(kind=\"bar\", stacked=True, figsize=(5,5), color=['tab:red','tab:green'])\n",
    "plt.title('Property Area vs Loan Status')\n",
    "plt.xlabel('Property Area')\n",
    "plt.ylabel('Frequency')\n",
    "plt.xticks(rotation=0)\n",
    "plt.show()"
   ]
  },
  {
   "cell_type": "markdown",
   "metadata": {
    "id": "yj4e2UvjgWsm"
   },
   "source": [
    "👉 More loans were accepted for applicants with property in Semiurban areas compared to Urban and Rural areas."
   ]
  },
  {
   "cell_type": "markdown",
   "metadata": {
    "id": "GkPfU3KQdJvH"
   },
   "source": [
    "### 4.3.3 Categorical Vs Numerical Variables"
   ]
  },
  {
   "cell_type": "code",
   "execution_count": null,
   "metadata": {
    "executionInfo": {
     "elapsed": 9,
     "status": "ok",
     "timestamp": 1636215164587,
     "user": {
      "displayName": "Mario Caesar",
      "photoUrl": "https://lh3.googleusercontent.com/a-/AOh14GheyOtCjw9bQyrYjdnb46Fp9pWuEIUHVSHLqwMBBw=s64",
      "userId": "15479329890797732984"
     },
     "user_tz": -420
    },
    "id": "8KXyIhTWdNoP",
    "outputId": "bd86772f-6998-4945-9f6e-840becad037d",
    "tags": []
   },
   "outputs": [],
   "source": [
    "sns.violinplot(x=\"Loan_Status\", y=\"ApplicantIncome\", data=df, palette=\"Pastel2\", hue=\"Loan_Status\",legend=False);"
   ]
  },
  {
   "cell_type": "markdown",
   "metadata": {
    "id": "sK5NrWpdiIbg"
   },
   "source": [
    "👉 There are lots of outliers in `ApplicantIncome`, and the distribution is also positively skewed."
   ]
  },
  {
   "cell_type": "code",
   "execution_count": null,
   "metadata": {
    "executionInfo": {
     "elapsed": 8,
     "status": "ok",
     "timestamp": 1636215164587,
     "user": {
      "displayName": "Mario Caesar",
      "photoUrl": "https://lh3.googleusercontent.com/a-/AOh14GheyOtCjw9bQyrYjdnb46Fp9pWuEIUHVSHLqwMBBw=s64",
      "userId": "15479329890797732984"
     },
     "user_tz": -420
    },
    "id": "UQgw9pSSdNgK",
    "outputId": "1b8f1689-5929-4d51-d774-8ebc72803330",
    "tags": []
   },
   "outputs": [],
   "source": [
    "sns.violinplot(x=\"Loan_Status\", y=\"CoapplicantIncome\", data=df, palette=\"Pastel2\", hue=\"Loan_Status\",legend=False);"
   ]
  },
  {
   "cell_type": "markdown",
   "metadata": {
    "id": "Y7DFLTqpibiJ"
   },
   "source": [
    "👉 There are lots of outliers in `CoapplicantIncome`, and the distribution is also positively skewed."
   ]
  },
  {
   "cell_type": "code",
   "execution_count": null,
   "metadata": {
    "executionInfo": {
     "elapsed": 801,
     "status": "ok",
     "timestamp": 1636215165381,
     "user": {
      "displayName": "Mario Caesar",
      "photoUrl": "https://lh3.googleusercontent.com/a-/AOh14GheyOtCjw9bQyrYjdnb46Fp9pWuEIUHVSHLqwMBBw=s64",
      "userId": "15479329890797732984"
     },
     "user_tz": -420
    },
    "id": "341fyImTdNO9",
    "outputId": "e2f5ee90-ebc8-446d-8d75-d8de51872e3b",
    "tags": []
   },
   "outputs": [],
   "source": [
    "sns.boxplot(x=\"Loan_Status\", y=\"LoanAmount\", data=df, palette=\"Pastel2\", hue=\"Loan_Status\", legend=False);"
   ]
  },
  {
   "cell_type": "markdown",
   "metadata": {
    "id": "35BpJYOJio5M"
   },
   "source": [
    "👉 The column`LoanAmount` has a high number of outliers, and its distribution is also positively skewed."
   ]
  },
  {
   "cell_type": "markdown",
   "metadata": {
    "id": "qwYT4WuSi1BA"
   },
   "source": [
    "### 4.3.4 Numerical Vs Numerical Variables"
   ]
  },
  {
   "cell_type": "code",
   "execution_count": null,
   "metadata": {
    "executionInfo": {
     "elapsed": 10,
     "status": "ok",
     "timestamp": 1636215165382,
     "user": {
      "displayName": "Mario Caesar",
      "photoUrl": "https://lh3.googleusercontent.com/a-/AOh14GheyOtCjw9bQyrYjdnb46Fp9pWuEIUHVSHLqwMBBw=s64",
      "userId": "15479329890797732984"
     },
     "user_tz": -420
    },
    "id": "xEWeAA3Fi3XJ",
    "outputId": "5df5dfce-7ac0-4df4-f570-f580025ef1fa",
    "tags": []
   },
   "outputs": [],
   "source": [
    "df.plot(x='ApplicantIncome', y='CoapplicantIncome', style='.', legend=False)  \n",
    "plt.xlabel('ApplicantIncome')\n",
    "plt.ylabel('CoapplicantIncome')  \n",
    "plt.show()\n",
    "print('Correlation:', df['ApplicantIncome'].corr(df['CoapplicantIncome']))"
   ]
  },
  {
   "cell_type": "markdown",
   "metadata": {
    "id": "9W0f-Mi5q_WA"
   },
   "source": [
    "👉 There is a **very slightly negative correlation** between `ApplicantIncome` and `CoapplicantIncome`."
   ]
  },
  {
   "cell_type": "markdown",
   "metadata": {
    "id": "Jq0D9_A1VSV9"
   },
   "source": [
    "## 4.4 Null Values"
   ]
  },
  {
   "cell_type": "code",
   "execution_count": null,
   "metadata": {
    "executionInfo": {
     "elapsed": 9,
     "status": "ok",
     "timestamp": 1636215165382,
     "user": {
      "displayName": "Mario Caesar",
      "photoUrl": "https://lh3.googleusercontent.com/a-/AOh14GheyOtCjw9bQyrYjdnb46Fp9pWuEIUHVSHLqwMBBw=s64",
      "userId": "15479329890797732984"
     },
     "user_tz": -420
    },
    "id": "Buorzh0-VVPS",
    "outputId": "6592eeef-9c3c-4d11-f84c-30b18d4f25a2",
    "tags": []
   },
   "outputs": [],
   "source": [
    "df.isnull().sum()"
   ]
  },
  {
   "cell_type": "markdown",
   "metadata": {
    "id": "b6LoQvhRVUup"
   },
   "source": [
    "👉 There are a few the null values in the dataset, but they do not appear in all columns."
   ]
  },
  {
   "cell_type": "markdown",
   "metadata": {
    "id": "i0K8wc4UVyX2"
   },
   "source": [
    "# 5. Data Preprocessing"
   ]
  },
  {
   "cell_type": "markdown",
   "metadata": {
    "id": "_JhvC2qZW4ke"
   },
   "source": [
    "## 5.1 Drop Unecessary Variables"
   ]
  },
  {
   "cell_type": "code",
   "execution_count": 43,
   "metadata": {
    "id": "w255orBlXxSC",
    "tags": []
   },
   "outputs": [],
   "source": [
    "if 'Loan_ID' in df.columns:\n",
    "    df = df.drop(['Loan_ID'], axis=1)"
   ]
  },
  {
   "cell_type": "markdown",
   "metadata": {
    "id": "_JhvC2qZW4ke",
    "tags": []
   },
   "source": [
    "## 5.2 Set Variable types"
   ]
  },
  {
   "cell_type": "code",
   "execution_count": 44,
   "metadata": {
    "tags": []
   },
   "outputs": [],
   "source": [
    "col_types = {'Gender':\"str\",\n",
    "             'Married':\"str\",\n",
    "             'Dependents':\"str\",\n",
    "             'Education':\"str\",\n",
    "             'Self_Employed':\"str\",\n",
    "             'ApplicantIncome':\"float\",\n",
    "             'CoapplicantIncome':\"float\",\n",
    "             'LoanAmount':\"float\",\n",
    "             'Loan_Amount_Term':\"float\",\n",
    "             'Credit_History':\"bool\",\n",
    "             'Property_Area':\"str\",\n",
    "             'Loan_Status':\"str\"}\n",
    "\n",
    "df = df.astype(dtype = col_types)"
   ]
  },
  {
   "cell_type": "code",
   "execution_count": 45,
   "metadata": {
    "tags": []
   },
   "outputs": [],
   "source": [
    "df = df.replace(\"nan\", None)"
   ]
  },
  {
   "cell_type": "markdown",
   "metadata": {
    "id": "E9RXvNsoV16b"
   },
   "source": [
    "## 5.3 Data Imputation\n",
    "*Imputation* is a technique for substituting an estimated value for missing values in a dataset."
   ]
  },
  {
   "cell_type": "markdown",
   "metadata": {
    "id": "uziNPF4eGlyJ",
    "tags": []
   },
   "source": [
    "### 5.3.1 Categorical Variables\n",
    "In this section, the imputation for categorical variables will be performed using the **mode**."
   ]
  },
  {
   "cell_type": "code",
   "execution_count": 46,
   "metadata": {
    "id": "1Dna_U33V09a",
    "tags": []
   },
   "outputs": [],
   "source": [
    "columns_to_fill = ['Gender', 'Married', 'Dependents', 'Self_Employed', 'Credit_History', 'Loan_Amount_Term']\n",
    "\n",
    "for column in columns_to_fill:\n",
    "    df[column] = df[column].fillna(df[column].mode()[0])"
   ]
  },
  {
   "cell_type": "code",
   "execution_count": null,
   "metadata": {
    "tags": []
   },
   "outputs": [],
   "source": [
    "df.isnull().sum()"
   ]
  },
  {
   "cell_type": "markdown",
   "metadata": {
    "id": "7s3L4BM0Gvpr"
   },
   "source": [
    "### 5.3.2 Numerical Variables\n",
    "In this section, the imputation for categorical variables will be performed using the **mean**."
   ]
  },
  {
   "cell_type": "code",
   "execution_count": 48,
   "metadata": {
    "id": "OayJ893bG665",
    "tags": []
   },
   "outputs": [],
   "source": [
    "columns_to_fill = ['LoanAmount']\n",
    "\n",
    "for column in columns_to_fill:\n",
    "    df[column] = df[column].fillna(df[column].mean())"
   ]
  },
  {
   "cell_type": "code",
   "execution_count": null,
   "metadata": {
    "tags": []
   },
   "outputs": [],
   "source": [
    "df.isnull().sum()"
   ]
  },
  {
   "cell_type": "markdown",
   "metadata": {
    "id": "svjroAn8KInZ"
   },
   "source": [
    "## 5.4 One-hot Encoding of Categorical Variables\n",
    "In this section, we will transform categorical variables into binary columns that can be processed by ML algorithms."
   ]
  },
  {
   "cell_type": "code",
   "execution_count": 50,
   "metadata": {
    "id": "JPrZD3MHLBJO",
    "tags": []
   },
   "outputs": [],
   "source": [
    "df['Gender'] = df['Gender'].replace({'Female': False, 'Male': True})\n",
    "df['Married'] = df['Married'].replace({'No': False, 'Yes': True})\n",
    "df['Education'] = df['Education'].replace({'Not Graduate': False, 'Graduate': True})\n",
    "df['Self_Employed'] = df['Self_Employed'].replace({'No': False, 'Yes': True})\n",
    "df['Loan_Status'] = df['Loan_Status'].replace({'N': False, 'Y': True})"
   ]
  },
  {
   "cell_type": "code",
   "execution_count": 51,
   "metadata": {
    "tags": []
   },
   "outputs": [],
   "source": [
    "df = pd.get_dummies(df, columns=[\"Dependents\",\"Property_Area\"])"
   ]
  },
  {
   "cell_type": "markdown",
   "metadata": {
    "id": "4xekDiffkIIb"
   },
   "source": [
    "## 5.5 Remove Outliers for Numerical Variables"
   ]
  },
  {
   "cell_type": "code",
   "execution_count": 52,
   "metadata": {
    "id": "7xXzLUK4kHsf",
    "tags": []
   },
   "outputs": [],
   "source": [
    "# Select only numeric columns except Loan_Amount_Term which is categorical\n",
    "numeric_df = df[['ApplicantIncome', 'CoapplicantIncome', 'LoanAmount']]\n",
    "\n",
    "# Compute mean and standard deviation\n",
    "mu = np.mean(numeric_df, axis=0)\n",
    "sigma = np.std(numeric_df, axis=0)\n",
    "\n",
    "# Filter out the outliers\n",
    "df = df[~((numeric_df < (mu - 2 * sigma)) | (numeric_df > (mu + 2 * sigma))).any(axis=1)]"
   ]
  },
  {
   "cell_type": "code",
   "execution_count": null,
   "metadata": {
    "tags": []
   },
   "outputs": [],
   "source": [
    "sns.set(style=\"darkgrid\")\n",
    "\n",
    "fig, axs = plt.subplots(3, 1, figsize=(20, 15))\n",
    "sns.histplot(data=df, x=\"ApplicantIncome\", kde=True, ax=axs[0], color='green')\n",
    "sns.histplot(data=df, x=\"CoapplicantIncome\", kde=True, ax=axs[1], color='skyblue')\n",
    "sns.histplot(data=df, x=\"LoanAmount\", kde=True, ax=axs[2], color='orange');"
   ]
  },
  {
   "cell_type": "markdown",
   "metadata": {
    "id": "r7hJ7w6dMlZk"
   },
   "source": [
    "## 5.6 Skewed Distribution Treatment\n",
    "We will use **square root transformation** to normalize the distribution."
   ]
  },
  {
   "cell_type": "code",
   "execution_count": 54,
   "metadata": {
    "executionInfo": {
     "elapsed": 9,
     "status": "ok",
     "timestamp": 1636215166057,
     "user": {
      "displayName": "Mario Caesar",
      "photoUrl": "https://lh3.googleusercontent.com/a-/AOh14GheyOtCjw9bQyrYjdnb46Fp9pWuEIUHVSHLqwMBBw=s64",
      "userId": "15479329890797732984"
     },
     "user_tz": -420
    },
    "id": "fMwoGg5BOKjo",
    "outputId": "354cd395-9fe5-4fc9-9ed7-07592e3b3e0a",
    "tags": []
   },
   "outputs": [],
   "source": [
    "# Apply square root transformation using .loc to avoid SettingWithCopyWarning\n",
    "df.loc[:, 'ApplicantIncome'] = np.sqrt(df['ApplicantIncome'])\n",
    "df.loc[:, 'CoapplicantIncome'] = np.sqrt(df['CoapplicantIncome'])\n",
    "df.loc[:, 'LoanAmount'] = np.sqrt(df['LoanAmount'])"
   ]
  },
  {
   "cell_type": "code",
   "execution_count": null,
   "metadata": {
    "executionInfo": {
     "elapsed": 1534,
     "status": "ok",
     "timestamp": 1636215167585,
     "user": {
      "displayName": "Mario Caesar",
      "photoUrl": "https://lh3.googleusercontent.com/a-/AOh14GheyOtCjw9bQyrYjdnb46Fp9pWuEIUHVSHLqwMBBw=s64",
      "userId": "15479329890797732984"
     },
     "user_tz": -420
    },
    "id": "5z_EKO1ITgTU",
    "outputId": "ec4e5ce5-f52f-49e0-bcf2-ef196960de2d",
    "tags": []
   },
   "outputs": [],
   "source": [
    "sns.set(style=\"darkgrid\")\n",
    "\n",
    "fig, axs = plt.subplots(3, 1, figsize=(20, 15))\n",
    "sns.histplot(data=df, x=\"ApplicantIncome\", kde=True, ax=axs[0], color='green')\n",
    "sns.histplot(data=df, x=\"CoapplicantIncome\", kde=True, ax=axs[1], color='skyblue')\n",
    "sns.histplot(data=df, x=\"LoanAmount\", kde=True, ax=axs[2], color='orange');"
   ]
  },
  {
   "cell_type": "markdown",
   "metadata": {
    "id": "E6V0WTjKgwFj"
   },
   "source": [
    "## 5.7 Features Separating\n",
    "Target features will be seperated from input features."
   ]
  },
  {
   "cell_type": "code",
   "execution_count": 56,
   "metadata": {
    "id": "sJJVP_kPhZh1",
    "tags": []
   },
   "outputs": [],
   "source": [
    "X = df.drop([\"Loan_Status\"], axis=1)\n",
    "y = df[\"Loan_Status\"]"
   ]
  },
  {
   "cell_type": "markdown",
   "metadata": {
    "id": "UpuBMRbEUx5n"
   },
   "source": [
    "## 5.8 Balance Data Set\n",
    "In previous exploration, we saw that the number between approved and rejected loan is imbalanced. In this section, we will use the **SMOTE oversampling technique** to avoid overfitting."
   ]
  },
  {
   "cell_type": "code",
   "execution_count": 57,
   "metadata": {
    "id": "FRrTxXZNU7Wg",
    "tags": []
   },
   "outputs": [],
   "source": [
    "X, y = SMOTE().fit_resample(X, y)"
   ]
  },
  {
   "cell_type": "code",
   "execution_count": null,
   "metadata": {
    "executionInfo": {
     "elapsed": 22,
     "status": "ok",
     "timestamp": 1636215168412,
     "user": {
      "displayName": "Mario Caesar",
      "photoUrl": "https://lh3.googleusercontent.com/a-/AOh14GheyOtCjw9bQyrYjdnb46Fp9pWuEIUHVSHLqwMBBw=s64",
      "userId": "15479329890797732984"
     },
     "user_tz": -420
    },
    "id": "RVpxywzMzbQb",
    "outputId": "3b016bfb-0075-4b26-ee4a-88e5e59acfbf",
    "tags": []
   },
   "outputs": [],
   "source": [
    "sns.set_theme(style=\"darkgrid\")\n",
    "sns.countplot(y=y, data=df, palette=\"PiYG\", hue=y, legend=False)\n",
    "plt.ylabel('Loan Status')\n",
    "plt.xlabel('Total')\n",
    "plt.show()"
   ]
  },
  {
   "cell_type": "markdown",
   "metadata": {
    "id": "deRoCdMn0Y4S"
   },
   "source": [
    "## 5.9 Data Normalization Over Data Set"
   ]
  },
  {
   "cell_type": "code",
   "execution_count": 59,
   "metadata": {
    "id": "WmA2qj9y0Yqo",
    "tags": []
   },
   "outputs": [],
   "source": [
    "scaler = MinMaxScaler().fit(X)\n",
    "X = scaler.transform(X)"
   ]
  },
  {
   "cell_type": "markdown",
   "metadata": {
    "id": "n9-O0Q9D3XwK"
   },
   "source": [
    "## 5.10 Splitting Data Set\n",
    "The data set will be split into **80% train and 20% test**."
   ]
  },
  {
   "cell_type": "code",
   "execution_count": 60,
   "metadata": {
    "id": "sfenUwlr3c2Y",
    "tags": []
   },
   "outputs": [],
   "source": [
    "X_train, X_test, y_train, y_test = train_test_split(X, y, test_size = 0.2, random_state = 0)"
   ]
  },
  {
   "cell_type": "markdown",
   "metadata": {
    "id": "3ixOkJUx3puI"
   },
   "source": [
    "# 6. Models"
   ]
  },
  {
   "cell_type": "markdown",
   "metadata": {
    "id": "MS0qL8PC4K3o"
   },
   "source": [
    "## 6.1 Logistic Regression"
   ]
  },
  {
   "cell_type": "code",
   "execution_count": 61,
   "metadata": {
    "executionInfo": {
     "elapsed": 19,
     "status": "ok",
     "timestamp": 1636215168414,
     "user": {
      "displayName": "Mario Caesar",
      "photoUrl": "https://lh3.googleusercontent.com/a-/AOh14GheyOtCjw9bQyrYjdnb46Fp9pWuEIUHVSHLqwMBBw=s64",
      "userId": "15479329890797732984"
     },
     "user_tz": -420
    },
    "id": "Xa5A1VSf4Fgu",
    "outputId": "8b03e79f-86a0-4abf-c15e-47db0f151b0c",
    "tags": []
   },
   "outputs": [],
   "source": [
    "LRclassifier = LogisticRegression(solver='saga', max_iter=500, random_state=1)\n",
    "LRclassifier.fit(X_train, y_train)\n",
    "\n",
    "y_pred = LRclassifier.predict(X_test)"
   ]
  },
  {
   "cell_type": "code",
   "execution_count": null,
   "metadata": {
    "executionInfo": {
     "elapsed": 19,
     "status": "ok",
     "timestamp": 1636215168414,
     "user": {
      "displayName": "Mario Caesar",
      "photoUrl": "https://lh3.googleusercontent.com/a-/AOh14GheyOtCjw9bQyrYjdnb46Fp9pWuEIUHVSHLqwMBBw=s64",
      "userId": "15479329890797732984"
     },
     "user_tz": -420
    },
    "id": "Xa5A1VSf4Fgu",
    "outputId": "8b03e79f-86a0-4abf-c15e-47db0f151b0c",
    "tags": []
   },
   "outputs": [],
   "source": [
    "sns.heatmap(confusion_matrix(y_test, y_pred), annot=True, cmap='RdPu');"
   ]
  },
  {
   "cell_type": "code",
   "execution_count": null,
   "metadata": {
    "executionInfo": {
     "elapsed": 19,
     "status": "ok",
     "timestamp": 1636215168414,
     "user": {
      "displayName": "Mario Caesar",
      "photoUrl": "https://lh3.googleusercontent.com/a-/AOh14GheyOtCjw9bQyrYjdnb46Fp9pWuEIUHVSHLqwMBBw=s64",
      "userId": "15479329890797732984"
     },
     "user_tz": -420
    },
    "id": "Xa5A1VSf4Fgu",
    "outputId": "8b03e79f-86a0-4abf-c15e-47db0f151b0c",
    "tags": []
   },
   "outputs": [],
   "source": [
    "print(classification_report(y_test, y_pred))\n",
    "\n",
    "from sklearn.metrics import accuracy_score\n",
    "print('Accuracy: {:.2f}%'.format(accuracy_score(y_pred,y_test)*100))"
   ]
  },
  {
   "cell_type": "code",
   "execution_count": 65,
   "metadata": {
    "tags": []
   },
   "outputs": [],
   "source": [
    "from skl2onnx import to_onnx\n",
    "# CAST to FP32\n",
    "X_cast = X.astype(np.float32)\n",
    "# Disable zipmap for compatibility\n",
    "options = {id(LRclassifier): {\"zipmap\": False}}\n",
    "onx = to_onnx(LRclassifier, X_cast[:1], options=options, target_opset=19)\n",
    "with open(\"model.onnx\", \"wb\") as f:\n",
    "    f.write(onx.SerializeToString())\n",
    "# Load model in onnx format\n",
    "onnx_model = onnx.load(\"model.onnx\")\n",
    "onnx.checker.check_model(onnx_model)\n",
    "# Max IR_VERSION is 9\n",
    "onnx_model.ir_version = 9\n",
    "onnx.save_model(onnx_model, \"model.onnx\")\n",
    "ort_session = ort.InferenceSession(\"model.onnx\")\n",
    "input_name = ort_session.get_inputs()[0].name\n",
    "output_name = ort_session.get_outputs()[0].name"
   ]
  },
  {
   "cell_type": "code",
   "execution_count": 67,
   "metadata": {
    "tags": []
   },
   "outputs": [],
   "source": [
    "# Simulate data received in json\n",
    "data = {\n",
    "    \"Loan_ID\": \"LP001002\",\n",
    "    \"Gender\": \"Male\",\n",
    "    \"Married\": \"No\",\n",
    "    \"Dependents\": \"0\",\n",
    "    \"Education\": \"Graduate\",\n",
    "    \"Self_Employed\": \"No\",\n",
    "    \"ApplicantIncome\": 5849,\n",
    "    \"CoapplicantIncome\": 0.0,\n",
    "    \"LoanAmount\": 120,\n",
    "    \"Loan_Amount_Term\": 360.0,\n",
    "    \"Credit_History\": 1.0,\n",
    "    \"Property_Area\": \"Urban\",\n",
    "}"
   ]
  },
  {
   "cell_type": "code",
   "execution_count": 68,
   "metadata": {
    "tags": []
   },
   "outputs": [],
   "source": [
    "def transform(data):\n",
    "    df = pd.DataFrame.from_dict(data, orient='index').transpose()\n",
    "    \n",
    "    # Drop Unecessary Variables\n",
    "    if 'Loan_ID' in df.columns:\n",
    "        df = df.drop(['Loan_ID'], axis=1)\n",
    "    \n",
    "    # Set Variable types\n",
    "    df = df.astype(dtype = {key: value for key, value in col_types.items() if key != 'Loan_Status'})\n",
    "    df = df.replace(\"nan\", None)\n",
    "    \n",
    "    # One-hot Encoding of Categorical Variables\n",
    "    df['Gender'] = df['Gender'].replace({'Female': False, 'Male': True})\n",
    "    df['Married'] = df['Married'].replace({'No': False, 'Yes': True})\n",
    "    df['Education'] = df['Education'].replace({'Not Graduate': False, 'Graduate': True})\n",
    "    df['Self_Employed'] = df['Self_Employed'].replace({'No': False, 'Yes': True})\n",
    "    df['Dependents_0'] = df['Dependents'].apply(lambda x: True if x == '0' else False)\n",
    "    df['Dependents_1'] = df['Dependents'].apply(lambda x: True if x == '1' else False)\n",
    "    df['Dependents_2'] = df['Dependents'].apply(lambda x: True if x == '2' else False)\n",
    "    df['Dependents_3+'] = df['Dependents'].apply(lambda x: True if x == '3+' else False)\n",
    "    df = df.drop('Dependents', axis=1)\n",
    "    df['Property_Area_Rural'] = df['Property_Area'].apply(lambda x: True if x == 'Rural' else False)\n",
    "    df['Property_Area_Semiurban'] = df['Property_Area'].apply(lambda x: True if x == 'Semiurban' else False)\n",
    "    df['Property_Area_Urban'] = df['Property_Area'].apply(lambda x: True if x == 'Urban' else False)\n",
    "    df = df.drop('Property_Area', axis=1)\n",
    "    \n",
    "    # Data Normalization Over Data Set\n",
    "    df = scaler.transform(df)\n",
    "\n",
    "    return df.astype(np.float32)"
   ]
  },
  {
   "cell_type": "code",
   "execution_count": null,
   "metadata": {
    "tags": []
   },
   "outputs": [],
   "source": [
    "candidat_test = transform(data)\n",
    "outputs = ort_session.run(None, {input_name: candidat_test})\n",
    "predictions = outputs[0]\n",
    "\n",
    "print(\"Predictions:\", predictions)"
   ]
  },
  {
   "cell_type": "code",
   "execution_count": null,
   "metadata": {},
   "outputs": [],
   "source": []
  }
 ],
 "metadata": {
  "kernelspec": {
   "display_name": "Python 3.9",
   "language": "python",
   "name": "python3"
  },
  "language_info": {
   "codemirror_mode": {
    "name": "ipython",
    "version": 3
   },
   "file_extension": ".py",
   "mimetype": "text/x-python",
   "name": "python",
   "nbconvert_exporter": "python",
   "pygments_lexer": "ipython3",
   "version": "3.12.2"
  }
 },
 "nbformat": 4,
 "nbformat_minor": 4
}
