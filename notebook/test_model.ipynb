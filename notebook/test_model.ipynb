{
 "cells": [
  {
   "cell_type": "code",
   "execution_count": 1,
   "id": "9251f719-e06b-4aaa-98e0-ec2e2c8e70ae",
   "metadata": {
    "tags": []
   },
   "outputs": [],
   "source": [
    "import joblib \n",
    "import pandas as pd\n",
    "\n",
    "# Hides all warnings\n",
    "import warnings\n",
    "warnings.filterwarnings(\"ignore\")\n",
    "scaler_filename = \"../models/scaler.save\"\n",
    "scaler = joblib.load(scaler_filename)\n",
    "\n",
    "col_types = {'Gender':\"str\",\n",
    "             'Married':\"str\",\n",
    "             'Dependents':\"str\",\n",
    "             'Education':\"str\",\n",
    "             'Self_Employed':\"str\",\n",
    "             'ApplicantIncome':\"float\",\n",
    "             'CoapplicantIncome':\"float\",\n",
    "             'LoanAmount':\"float\",\n",
    "             'Loan_Amount_Term':\"float\",\n",
    "             'Credit_History':\"bool\",\n",
    "             'Property_Area':\"str\",\n",
    "             'Loan_Status':\"str\"}\n",
    "\n",
    "def transform(data):\n",
    "    df = pd.DataFrame.from_dict(data, orient='index').transpose()\n",
    "    \n",
    "    # Drop Unecessary Variables\n",
    "    if 'Loan_ID' in df.columns:\n",
    "        df = df.drop(['Loan_ID'], axis=1)\n",
    "    \n",
    "    # Set Variable types\n",
    "    df = df.astype(dtype = {key: value for key, value in col_types.items() if key != 'Loan_Status'})\n",
    "    df = df.replace(\"nan\", None)\n",
    "    \n",
    "    # One-hot Encoding of Categorical Variables\n",
    "    df['Gender'] = df['Gender'].replace({'Female': False, 'Male': True})\n",
    "    df['Married'] = df['Married'].replace({'No': False, 'Yes': True})\n",
    "    df['Education'] = df['Education'].replace({'Not Graduate': False, 'Graduate': True})\n",
    "    df['Self_Employed'] = df['Self_Employed'].replace({'No': False, 'Yes': True})\n",
    "    df['Dependents_0'] = df['Dependents'].apply(lambda x: True if x == '0' else False)\n",
    "    df['Dependents_1'] = df['Dependents'].apply(lambda x: True if x == '1' else False)\n",
    "    df['Dependents_2'] = df['Dependents'].apply(lambda x: True if x == '2' else False)\n",
    "    df['Dependents_3+'] = df['Dependents'].apply(lambda x: True if x == '3+' else False)\n",
    "    df = df.drop('Dependents', axis=1)\n",
    "    df['Property_Area_Rural'] = df['Property_Area'].apply(lambda x: True if x == 'Rural' else False)\n",
    "    df['Property_Area_Semiurban'] = df['Property_Area'].apply(lambda x: True if x == 'Semiurban' else False)\n",
    "    df['Property_Area_Urban'] = df['Property_Area'].apply(lambda x: True if x == 'Urban' else False)\n",
    "    df = df.drop('Property_Area', axis=1)\n",
    "    \n",
    "    # Data Normalization Over Data Set\n",
    "    df = scaler.transform(df)\n",
    "\n",
    "    return df.astype(np.float32)"
   ]
  },
  {
   "cell_type": "code",
   "execution_count": 3,
   "id": "7c75059d-216f-4d66-99f7-b677eeda7aa9",
   "metadata": {
    "tags": []
   },
   "outputs": [
    {
     "name": "stdout",
     "output_type": "stream",
     "text": [
      "JSON Payload: {\"input\": [[1.0, 0.0, 1.0, 0.0, 48.99017333984375, 0.0, 7.978983402252197, 0.7435897588729858, 1.0, 1.0, 0.0, 0.0, 0.0, 0.0, 0.0, 1.0]]}\n",
      "Status Code: 400\n",
      "Response JSON: {'error': 'Invalid JSON structure, missing inputs'}\n"
     ]
    }
   ],
   "source": [
    "import requests\n",
    "import json\n",
    "import numpy as np\n",
    "\n",
    "# Define the URL of the Flask service\n",
    "url = \"https://loan-loan-prediction-mo.apps.prod.rhoai.rh-aiservices-bu.com/v2/models/loan/infer\"\n",
    "\n",
    "\n",
    "# Define the JSON payload\n",
    "payload = {\n",
    "    \"Loan_ID\": \"LP001002\",\n",
    "    \"Gender\": \"Male\",\n",
    "    \"Married\": \"No\",\n",
    "    \"Dependents\": \"0\",\n",
    "    \"Education\": \"Graduate\",\n",
    "    \"Self_Employed\": \"No\",\n",
    "    \"ApplicantIncome\": 5849,\n",
    "    \"CoapplicantIncome\": 0.0,\n",
    "    \"LoanAmount\": 120,\n",
    "    \"Loan_Amount_Term\": 360.0,\n",
    "    \"Credit_History\": 1.0,\n",
    "    \"Property_Area\": \"Urban\",\n",
    "}\n",
    "\n",
    "try:\n",
    "    json_payload = json.dumps({\"input\":transform(payload).tolist()})\n",
    "    print(\"JSON Payload:\", json_payload)\n",
    "except (TypeError, ValueError) as e:\n",
    "    print(\"Error serializing to JSON:\", e)\n",
    "# Send the POST request\n",
    "response = requests.post(url,json_payload ,verify=False)\n",
    "\n",
    "# Print the response\n",
    "print(\"Status Code:\", response.status_code)\n",
    "print(\"Response JSON:\", response.json())"
   ]
  },
  {
   "cell_type": "code",
   "execution_count": null,
   "id": "f7a1c17e-7fb4-46f2-b722-c60fc780f3e2",
   "metadata": {},
   "outputs": [],
   "source": []
  },
  {
   "cell_type": "code",
   "execution_count": null,
   "id": "5ed208fe-6c66-4983-b751-0cc6bb616bc3",
   "metadata": {},
   "outputs": [],
   "source": []
  },
  {
   "cell_type": "code",
   "execution_count": null,
   "id": "bc241e94-5dcf-47b6-b6c3-167eca4e5030",
   "metadata": {},
   "outputs": [],
   "source": []
  }
 ],
 "metadata": {
  "kernelspec": {
   "display_name": "Python 3.9",
   "language": "python",
   "name": "python3"
  },
  "language_info": {
   "codemirror_mode": {
    "name": "ipython",
    "version": 3
   },
   "file_extension": ".py",
   "mimetype": "text/x-python",
   "name": "python",
   "nbconvert_exporter": "python",
   "pygments_lexer": "ipython3",
   "version": "3.9.16"
  }
 },
 "nbformat": 4,
 "nbformat_minor": 5
}
