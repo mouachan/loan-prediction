{
 "cells": [
  {
   "cell_type": "markdown",
   "id": "e260f146-9844-4854-a29c-7ef08829e4e7",
   "metadata": {},
   "source": [
    "# Push loan model to s3"
   ]
  },
  {
   "cell_type": "markdown",
   "id": "7b3c563e-535f-431f-b49c-b2008afacf6f",
   "metadata": {},
   "source": [
    "## s3 function"
   ]
  },
  {
   "cell_type": "code",
   "execution_count": 2,
   "id": "b2c7b669-1ceb-4a70-a171-7f0a4f668a15",
   "metadata": {
    "tags": []
   },
   "outputs": [],
   "source": [
    "import boto3\n",
    "from boto3 import session\n",
    "import os\n",
    "\n",
    "def init_s3_connection():\n",
    "    global bucket_name\n",
    "    key_id = os.environ.get(\"AWS_ACCESS_KEY_ID\", \"minio\")\n",
    "    secret_key = os.environ.get(\"AWS_SECRET_ACCESS_KEY\", \"minio123\")\n",
    "    bucket_name = os.environ.get(\"AWS_S3_BUCKET\", \"models\")\n",
    "    endpoint = os.environ.get(\"AWS_S3_ENDPOINT\", \"https://minio-s3-loan-prediction-mo.apps.prod.rhoai.rh-aiservices-bu.com\")\n",
    "    s3_client = boto3.client(\"s3\", aws_access_key_id=key_id, aws_secret_access_key=secret_key, endpoint_url=endpoint)\n",
    "    return s3_client"
   ]
  },
  {
   "cell_type": "code",
   "execution_count": 3,
   "id": "513df060-d0e3-4379-95de-ace714c114c9",
   "metadata": {
    "tags": []
   },
   "outputs": [],
   "source": [
    "s3_con = init_s3_connection()"
   ]
  },
  {
   "cell_type": "code",
   "execution_count": 9,
   "id": "37e9974e-ef20-41aa-b697-6c1d2f3761fe",
   "metadata": {},
   "outputs": [],
   "source": [
    "obj = \"../models/model.onnx\"\n",
    "s3_path = \"loan/1/model.onnx\"\n",
    "s3_con.upload_file(obj, bucket_name, s3_path)"
   ]
  }
 ],
 "metadata": {
  "kernelspec": {
   "display_name": "Python 3.9",
   "language": "python",
   "name": "python3"
  },
  "language_info": {
   "codemirror_mode": {
    "name": "ipython",
    "version": 3
   },
   "file_extension": ".py",
   "mimetype": "text/x-python",
   "name": "python",
   "nbconvert_exporter": "python",
   "pygments_lexer": "ipython3",
   "version": "3.9.16"
  }
 },
 "nbformat": 4,
 "nbformat_minor": 5
}
